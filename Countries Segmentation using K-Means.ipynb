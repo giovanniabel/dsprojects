{
 "cells": [
  {
   "cell_type": "markdown",
   "metadata": {},
   "source": [
    "<h1>Countries Segmentation using K-Means\n",
    "    \n",
    "<h4>By: Giovanni Abel Christian <br> <br> \n",
    "<br>\n",
    "Data Source: https://www.kaggle.com/rohan0301/unsupervised-learning-on-country-data\n",
    "\n"
   ]
  },
  {
   "cell_type": "code",
   "execution_count": 2,
   "metadata": {
    "_cell_guid": "b1076dfc-b9ad-4769-8c92-a6c4dae69d19",
    "_uuid": "8f2839f25d086af736a60e9eeb907d3b93b6e0e5"
   },
   "outputs": [
    {
     "name": "stdout",
     "output_type": "stream",
     "text": [
      "['Country-data.csv', 'data-dictionary.csv', 'iris.csv', 'Mall_Customers.csv', 'whiskies.txt']\n"
     ]
    }
   ],
   "source": [
    "# Mengimpor library yang dibutuhkan\n",
    "import numpy as np # Impor library numpy sebagai np\n",
    "import pandas as pd # Impor library pandas sebagai pd\n",
    "import matplotlib.pyplot as plt #Impor library matplotlib.pyplot sebagai plt\n",
    "import seaborn as sns  #Impor library seaborn sebaga sns\n",
    "\n",
    "\n",
    "import os #impor library os\n",
    "print(os.listdir(\"input\")) #menampilkan daftar file pada folder input \n",
    "\n",
    "#Penjelasan library yang dipakai\n",
    "# - numpy: library untuk manipulasi n-dimensional array\n",
    "# - pandas:library untuk manipulasi dan analisis data\n",
    "# - matplotlib.pyplot: library untuk membuat figure dan plotting\n",
    "# - seaborn: library untuk untuk mengatur tampilan aestetik dari plot\n",
    "# - os:library agar python berinteraksi langsung dengan sistem"
   ]
  },
  {
   "cell_type": "code",
   "execution_count": 7,
   "metadata": {},
   "outputs": [
    {
     "name": "stdout",
     "output_type": "stream",
     "text": [
      "<class 'pandas.core.frame.DataFrame'>\n",
      "RangeIndex: 167 entries, 0 to 166\n",
      "Data columns (total 10 columns):\n",
      " #   Column      Non-Null Count  Dtype  \n",
      "---  ------      --------------  -----  \n",
      " 0   country     167 non-null    object \n",
      " 1   child_mort  167 non-null    float64\n",
      " 2   exports     167 non-null    float64\n",
      " 3   health      167 non-null    float64\n",
      " 4   imports     167 non-null    float64\n",
      " 5   income      167 non-null    int64  \n",
      " 6   inflation   167 non-null    float64\n",
      " 7   life_expec  167 non-null    float64\n",
      " 8   total_fer   167 non-null    float64\n",
      " 9   gdpp        167 non-null    int64  \n",
      "dtypes: float64(7), int64(2), object(1)\n",
      "memory usage: 13.2+ KB\n"
     ]
    }
   ],
   "source": [
    "dataset.info()"
   ]
  },
  {
   "cell_type": "code",
   "execution_count": 8,
   "metadata": {
    "_cell_guid": "79c7e3d0-c299-4dcb-8224-4455121ee9b0",
    "_kg_hide-input": false,
    "_uuid": "d629ff2d2480ee46fbb7e2d37f6b5fab8052498a"
   },
   "outputs": [
    {
     "data": {
      "text/html": [
       "<div>\n",
       "<style scoped>\n",
       "    .dataframe tbody tr th:only-of-type {\n",
       "        vertical-align: middle;\n",
       "    }\n",
       "\n",
       "    .dataframe tbody tr th {\n",
       "        vertical-align: top;\n",
       "    }\n",
       "\n",
       "    .dataframe thead th {\n",
       "        text-align: right;\n",
       "    }\n",
       "</style>\n",
       "<table border=\"1\" class=\"dataframe\">\n",
       "  <thead>\n",
       "    <tr style=\"text-align: right;\">\n",
       "      <th></th>\n",
       "      <th>country</th>\n",
       "      <th>child_mort</th>\n",
       "      <th>exports</th>\n",
       "      <th>health</th>\n",
       "      <th>imports</th>\n",
       "      <th>income</th>\n",
       "      <th>inflation</th>\n",
       "      <th>life_expec</th>\n",
       "      <th>total_fer</th>\n",
       "      <th>gdpp</th>\n",
       "    </tr>\n",
       "  </thead>\n",
       "  <tbody>\n",
       "    <tr>\n",
       "      <th>0</th>\n",
       "      <td>Afghanistan</td>\n",
       "      <td>90.2</td>\n",
       "      <td>10.0</td>\n",
       "      <td>7.58</td>\n",
       "      <td>44.9</td>\n",
       "      <td>1610</td>\n",
       "      <td>9.440</td>\n",
       "      <td>56.2</td>\n",
       "      <td>5.82</td>\n",
       "      <td>553</td>\n",
       "    </tr>\n",
       "    <tr>\n",
       "      <th>1</th>\n",
       "      <td>Albania</td>\n",
       "      <td>16.6</td>\n",
       "      <td>28.0</td>\n",
       "      <td>6.55</td>\n",
       "      <td>48.6</td>\n",
       "      <td>9930</td>\n",
       "      <td>4.490</td>\n",
       "      <td>76.3</td>\n",
       "      <td>1.65</td>\n",
       "      <td>4090</td>\n",
       "    </tr>\n",
       "    <tr>\n",
       "      <th>2</th>\n",
       "      <td>Algeria</td>\n",
       "      <td>27.3</td>\n",
       "      <td>38.4</td>\n",
       "      <td>4.17</td>\n",
       "      <td>31.4</td>\n",
       "      <td>12900</td>\n",
       "      <td>16.100</td>\n",
       "      <td>76.5</td>\n",
       "      <td>2.89</td>\n",
       "      <td>4460</td>\n",
       "    </tr>\n",
       "    <tr>\n",
       "      <th>3</th>\n",
       "      <td>Angola</td>\n",
       "      <td>119.0</td>\n",
       "      <td>62.3</td>\n",
       "      <td>2.85</td>\n",
       "      <td>42.9</td>\n",
       "      <td>5900</td>\n",
       "      <td>22.400</td>\n",
       "      <td>60.1</td>\n",
       "      <td>6.16</td>\n",
       "      <td>3530</td>\n",
       "    </tr>\n",
       "    <tr>\n",
       "      <th>4</th>\n",
       "      <td>Antigua and Barbuda</td>\n",
       "      <td>10.3</td>\n",
       "      <td>45.5</td>\n",
       "      <td>6.03</td>\n",
       "      <td>58.9</td>\n",
       "      <td>19100</td>\n",
       "      <td>1.440</td>\n",
       "      <td>76.8</td>\n",
       "      <td>2.13</td>\n",
       "      <td>12200</td>\n",
       "    </tr>\n",
       "    <tr>\n",
       "      <th>5</th>\n",
       "      <td>Argentina</td>\n",
       "      <td>14.5</td>\n",
       "      <td>18.9</td>\n",
       "      <td>8.10</td>\n",
       "      <td>16.0</td>\n",
       "      <td>18700</td>\n",
       "      <td>20.900</td>\n",
       "      <td>75.8</td>\n",
       "      <td>2.37</td>\n",
       "      <td>10300</td>\n",
       "    </tr>\n",
       "    <tr>\n",
       "      <th>6</th>\n",
       "      <td>Armenia</td>\n",
       "      <td>18.1</td>\n",
       "      <td>20.8</td>\n",
       "      <td>4.40</td>\n",
       "      <td>45.3</td>\n",
       "      <td>6700</td>\n",
       "      <td>7.770</td>\n",
       "      <td>73.3</td>\n",
       "      <td>1.69</td>\n",
       "      <td>3220</td>\n",
       "    </tr>\n",
       "    <tr>\n",
       "      <th>7</th>\n",
       "      <td>Australia</td>\n",
       "      <td>4.8</td>\n",
       "      <td>19.8</td>\n",
       "      <td>8.73</td>\n",
       "      <td>20.9</td>\n",
       "      <td>41400</td>\n",
       "      <td>1.160</td>\n",
       "      <td>82.0</td>\n",
       "      <td>1.93</td>\n",
       "      <td>51900</td>\n",
       "    </tr>\n",
       "    <tr>\n",
       "      <th>8</th>\n",
       "      <td>Austria</td>\n",
       "      <td>4.3</td>\n",
       "      <td>51.3</td>\n",
       "      <td>11.00</td>\n",
       "      <td>47.8</td>\n",
       "      <td>43200</td>\n",
       "      <td>0.873</td>\n",
       "      <td>80.5</td>\n",
       "      <td>1.44</td>\n",
       "      <td>46900</td>\n",
       "    </tr>\n",
       "    <tr>\n",
       "      <th>9</th>\n",
       "      <td>Azerbaijan</td>\n",
       "      <td>39.2</td>\n",
       "      <td>54.3</td>\n",
       "      <td>5.88</td>\n",
       "      <td>20.7</td>\n",
       "      <td>16000</td>\n",
       "      <td>13.800</td>\n",
       "      <td>69.1</td>\n",
       "      <td>1.92</td>\n",
       "      <td>5840</td>\n",
       "    </tr>\n",
       "  </tbody>\n",
       "</table>\n",
       "</div>"
      ],
      "text/plain": [
       "               country  child_mort  exports  health  imports  income  \\\n",
       "0          Afghanistan        90.2     10.0    7.58     44.9    1610   \n",
       "1              Albania        16.6     28.0    6.55     48.6    9930   \n",
       "2              Algeria        27.3     38.4    4.17     31.4   12900   \n",
       "3               Angola       119.0     62.3    2.85     42.9    5900   \n",
       "4  Antigua and Barbuda        10.3     45.5    6.03     58.9   19100   \n",
       "5            Argentina        14.5     18.9    8.10     16.0   18700   \n",
       "6              Armenia        18.1     20.8    4.40     45.3    6700   \n",
       "7            Australia         4.8     19.8    8.73     20.9   41400   \n",
       "8              Austria         4.3     51.3   11.00     47.8   43200   \n",
       "9           Azerbaijan        39.2     54.3    5.88     20.7   16000   \n",
       "\n",
       "   inflation  life_expec  total_fer   gdpp  \n",
       "0      9.440        56.2       5.82    553  \n",
       "1      4.490        76.3       1.65   4090  \n",
       "2     16.100        76.5       2.89   4460  \n",
       "3     22.400        60.1       6.16   3530  \n",
       "4      1.440        76.8       2.13  12200  \n",
       "5     20.900        75.8       2.37  10300  \n",
       "6      7.770        73.3       1.69   3220  \n",
       "7      1.160        82.0       1.93  51900  \n",
       "8      0.873        80.5       1.44  46900  \n",
       "9     13.800        69.1       1.92   5840  "
      ]
     },
     "execution_count": 8,
     "metadata": {},
     "output_type": "execute_result"
    }
   ],
   "source": [
    "dataset = pd.read_csv('input/Country-data.csv') # dataset <- Counstry-data.csv, mengimpor file Country-data dan disimpan sebagai pandas dataframe pada variabel dataset\n",
    "dataset.head(10) #Menampilkan 10 baris pertama pada variabel dataset\n",
    "\n",
    "#Penjelasan variabel dalam dataset:\n",
    "# - country: nama negara\n",
    "# - child_mort: kematian anak dibawah 5 tahun per 1000 kelahiran\n",
    "# - exports: ekspor barang dan jasa per capita\n",
    "# - health: pengeluaran biaya kesehatan per capita\n",
    "# - imports: impor barang dan jasa per capita \n",
    "# - income: total pendapatan per orang\n",
    "# - inflation: Pengukuran pertumbuhan tahunan dari jumlah PDB\n",
    "# - life_excpec: angka rata-rata umur\n",
    "# - total_fer: Angka rata-rata kelahiran anak per wanita\n",
    "# - gdpp: PDB per capita"
   ]
  },
  {
   "cell_type": "code",
   "execution_count": 9,
   "metadata": {
    "_uuid": "d47849badb0035c1968d9b19384a266f6cfdc634"
   },
   "outputs": [
    {
     "data": {
      "text/plain": [
       "(167, 10)"
      ]
     },
     "execution_count": 9,
     "metadata": {},
     "output_type": "execute_result"
    }
   ],
   "source": [
    "dataset.shape #Menampilkan ukuran dari object dataset dalam netuk (jumlah baris, jumlah kolom3)"
   ]
  },
  {
   "cell_type": "code",
   "execution_count": 10,
   "metadata": {
    "_uuid": "bcfc2fb58c8989f2f548dbf19d83cbf7bcc42313"
   },
   "outputs": [
    {
     "name": "stdout",
     "output_type": "stream",
     "text": [
      "<class 'pandas.core.frame.DataFrame'>\n",
      "RangeIndex: 167 entries, 0 to 166\n",
      "Data columns (total 10 columns):\n",
      " #   Column      Non-Null Count  Dtype  \n",
      "---  ------      --------------  -----  \n",
      " 0   country     167 non-null    object \n",
      " 1   child_mort  167 non-null    float64\n",
      " 2   exports     167 non-null    float64\n",
      " 3   health      167 non-null    float64\n",
      " 4   imports     167 non-null    float64\n",
      " 5   income      167 non-null    int64  \n",
      " 6   inflation   167 non-null    float64\n",
      " 7   life_expec  167 non-null    float64\n",
      " 8   total_fer   167 non-null    float64\n",
      " 9   gdpp        167 non-null    int64  \n",
      "dtypes: float64(7), int64(2), object(1)\n",
      "memory usage: 13.2+ KB\n"
     ]
    }
   ],
   "source": [
    "dataset.info() # Menampilkan informasi umum mengenai objek\n",
    "# Informasi yang ditampikan adalah:\n",
    "# - Class atau jenis objek variabel\n",
    "# - Jumlah baris atau observasi data\n",
    "# - Jumah kolom data\n",
    "# - Tipe data setiap kolom, berapa banyak data dan apakah memiliki nilai NULL atau NaN\n",
    "# - Besaran file data"
   ]
  },
  {
   "cell_type": "code",
   "execution_count": 11,
   "metadata": {
    "_uuid": "ca96e1a193d3818013ccffa63b90914c1042cac6",
    "scrolled": true
   },
   "outputs": [
    {
     "data": {
      "text/plain": [
       "country       0\n",
       "child_mort    0\n",
       "exports       0\n",
       "health        0\n",
       "imports       0\n",
       "income        0\n",
       "inflation     0\n",
       "life_expec    0\n",
       "total_fer     0\n",
       "gdpp          0\n",
       "dtype: int64"
      ]
     },
     "execution_count": 11,
     "metadata": {},
     "output_type": "execute_result"
    }
   ],
   "source": [
    "dataset.isnull().sum() # Menghitung jumlah nilai NULL pada dataset, untuk setiap kolomnya. isnull() untuk mencari nilai null dan .sum() untuk menjumlahkan nilai yang ditemukan\n",
    "# Hasil di bawah menampilkan bahwa semua kolom memiliki angka 0, artinya semua kolom pada data set tidak memiliki satupun NULL"
   ]
  },
  {
   "cell_type": "code",
   "execution_count": 12,
   "metadata": {
    "_uuid": "1c76e4a81b32169d627aad33366c6089c17299f3"
   },
   "outputs": [],
   "source": [
    "X= dataset.iloc[:, [5,7]].values # menetapkan variabel X yang berisi, nilai fitur dari kolom income dan life_expec Variabel disimpan dalam pandas array dan hanya menampilkan nilai dari kedua kolom"
   ]
  },
  {
   "cell_type": "code",
   "execution_count": 17,
   "metadata": {},
   "outputs": [
    {
     "data": {
      "text/html": [
       "<div>\n",
       "<style scoped>\n",
       "    .dataframe tbody tr th:only-of-type {\n",
       "        vertical-align: middle;\n",
       "    }\n",
       "\n",
       "    .dataframe tbody tr th {\n",
       "        vertical-align: top;\n",
       "    }\n",
       "\n",
       "    .dataframe thead th {\n",
       "        text-align: right;\n",
       "    }\n",
       "</style>\n",
       "<table border=\"1\" class=\"dataframe\">\n",
       "  <thead>\n",
       "    <tr style=\"text-align: right;\">\n",
       "      <th></th>\n",
       "      <th>country</th>\n",
       "      <th>income</th>\n",
       "      <th>life_expec</th>\n",
       "    </tr>\n",
       "  </thead>\n",
       "  <tbody>\n",
       "    <tr>\n",
       "      <th>0</th>\n",
       "      <td>Afghanistan</td>\n",
       "      <td>1610</td>\n",
       "      <td>56.2</td>\n",
       "    </tr>\n",
       "    <tr>\n",
       "      <th>1</th>\n",
       "      <td>Albania</td>\n",
       "      <td>9930</td>\n",
       "      <td>76.3</td>\n",
       "    </tr>\n",
       "    <tr>\n",
       "      <th>2</th>\n",
       "      <td>Algeria</td>\n",
       "      <td>12900</td>\n",
       "      <td>76.5</td>\n",
       "    </tr>\n",
       "    <tr>\n",
       "      <th>3</th>\n",
       "      <td>Angola</td>\n",
       "      <td>5900</td>\n",
       "      <td>60.1</td>\n",
       "    </tr>\n",
       "    <tr>\n",
       "      <th>4</th>\n",
       "      <td>Antigua and Barbuda</td>\n",
       "      <td>19100</td>\n",
       "      <td>76.8</td>\n",
       "    </tr>\n",
       "    <tr>\n",
       "      <th>...</th>\n",
       "      <td>...</td>\n",
       "      <td>...</td>\n",
       "      <td>...</td>\n",
       "    </tr>\n",
       "    <tr>\n",
       "      <th>162</th>\n",
       "      <td>Vanuatu</td>\n",
       "      <td>2950</td>\n",
       "      <td>63.0</td>\n",
       "    </tr>\n",
       "    <tr>\n",
       "      <th>163</th>\n",
       "      <td>Venezuela</td>\n",
       "      <td>16500</td>\n",
       "      <td>75.4</td>\n",
       "    </tr>\n",
       "    <tr>\n",
       "      <th>164</th>\n",
       "      <td>Vietnam</td>\n",
       "      <td>4490</td>\n",
       "      <td>73.1</td>\n",
       "    </tr>\n",
       "    <tr>\n",
       "      <th>165</th>\n",
       "      <td>Yemen</td>\n",
       "      <td>4480</td>\n",
       "      <td>67.5</td>\n",
       "    </tr>\n",
       "    <tr>\n",
       "      <th>166</th>\n",
       "      <td>Zambia</td>\n",
       "      <td>3280</td>\n",
       "      <td>52.0</td>\n",
       "    </tr>\n",
       "  </tbody>\n",
       "</table>\n",
       "<p>167 rows × 3 columns</p>\n",
       "</div>"
      ],
      "text/plain": [
       "                 country  income  life_expec\n",
       "0            Afghanistan    1610        56.2\n",
       "1                Albania    9930        76.3\n",
       "2                Algeria   12900        76.5\n",
       "3                 Angola    5900        60.1\n",
       "4    Antigua and Barbuda   19100        76.8\n",
       "..                   ...     ...         ...\n",
       "162              Vanuatu    2950        63.0\n",
       "163            Venezuela   16500        75.4\n",
       "164              Vietnam    4490        73.1\n",
       "165                Yemen    4480        67.5\n",
       "166               Zambia    3280        52.0\n",
       "\n",
       "[167 rows x 3 columns]"
      ]
     },
     "execution_count": 17,
     "metadata": {},
     "output_type": "execute_result"
    }
   ],
   "source": [
    "dataset.iloc[:,[0,5,7]]"
   ]
  },
  {
   "cell_type": "code",
   "execution_count": 14,
   "metadata": {
    "_uuid": "5e4f9f5b66017fb178608632d9f9bc07cc825853"
   },
   "outputs": [],
   "source": [
    "# Pembuatan model KMeans untuk menentukan nilai K yang cocok\n",
    "from sklearn.cluster import KMeans # Impor library sklearn.cluster sebagai KMeans, untuk pembuatan model clustering KMeans\n",
    "wcss=[] # Menetapkan variabel wcss sebagai sebuah list yang kosong. [] digunakan untuk membuat list\n",
    "\n",
    "# wcss adalah total jarak setiap observasi ke centroid\n",
    "# semakin kecil nilai wcss maka semakin mirip setiap observasi dalam 1 cluster, makan model dibilang bagus jika memiliki wcss yang kecil\n",
    "\n",
    "# Model KMeans dibuat dengan cara membuat iterasi untuk penentuan jumlah cluster (k) dari 1 hingga 10\n",
    "# nilai wcss nantinya akan diambil dari model, dan disimpan dalam variabel wcss dalam bentuk list \n",
    "\n",
    "\n",
    "for i in range(1,11):                                                      # Untuk setiap angka dari 1 sampai 10 disebut sebagai i\n",
    "    kmeans = KMeans(n_clusters= i, init='k-means++', random_state=0)       # Buat sebuah model Kmeans dengan parameter n_clusters sebesar i, paramater initnya adalah 'kmeans++' dan parameter random_statenya 0\n",
    "    kmeans.fit(X)                                                          # training model kmeans menggunakan data dalam variabel X\n",
    "    wcss.append(kmeans.inertia_)                                           # Menambah kan nilai inertia dari model ke dalam list wcss, inertia adalah rumus untuk segregasti poin data ke dalam cluster\n",
    "    \n",
    "#Penjelasan Parameter KMeans:\n",
    "# - n_clusters: Jumlah cluster atau penglompokan yang diinginkan\n",
    "# - init: Metode inisiasi, metode 'k-mean++' memilih titik tengah awal untuk clustering dengan cara yang cerdas untuk mempercepat konvergensi\n",
    "# - random_state: Menetapkan angka secara acak untuk inisiasi awal titik centroid cluster"
   ]
  },
  {
   "cell_type": "code",
   "execution_count": 15,
   "metadata": {
    "_uuid": "3a8226bd446bfce88342d98fea5d00d5c7b57a9e"
   },
   "outputs": [
    {
     "data": {
      "image/png": "[encoded data removed]",
      "text/plain": [
       "<Figure size 432x288 with 1 Axes>"
      ]
     },
     "metadata": {
      "needs_background": "light"
     },
     "output_type": "display_data"
    }
   ],
   "source": [
    "#Visualisasi nilai grafik Elbow Method untuk menentukan nilai K yang diharapkan\n",
    "plt.plot(range(1,11), wcss) #Membuat line chart dimana parameternya adalah nilai x adalah 1-10 dan y adalah nilai dari list wcss\n",
    "plt.title('The Elbow Method') # memberi nama label 'The Elbow Method' di atas grafik sebagai judul\n",
    "plt.xlabel('no of clusters') # memberi nama label 'no of clusters' pada sumbu x\n",
    "plt.ylabel('wcss') # memberi nama label 'wcss' pada sumbu y \n",
    "plt.show() #menampilkan plot dengan spesifikasi di atas"
   ]
  },
  {
   "cell_type": "markdown",
   "metadata": {},
   "source": [
    "Grafik di atas menunjukan perubahan nilai wcss berdasarkan nilai cluster atau k yang ditentukan. Pemilihan nilai K berdasarkan titik di mana penurunann nilai wcss tidak terlalu signfiikan atau cukup landai. Berdasarkan grafik yang ditunjukan nilai k yang paling cocok adalah k=3. "
   ]
  },
  {
   "cell_type": "code",
   "execution_count": 58,
   "metadata": {
    "_uuid": "5b0ff8bf00fb9e9635e1c5302ffdbc2e9abd517e"
   },
   "outputs": [],
   "source": [
    "#Membuat model K means berdasarkan k = 3\n",
    "kmeansmodel = KMeans(n_clusters= 3, init='k-means++', random_state=0) #Menetapkan variabel kmeansmodel berdasarkan model kmeans dengan parameter n_clusters sebesar 5, paramater initnya adalah 'kmeans++' dan parameter random_statenya 0\n",
    "\n",
    "y_kmeans= kmeansmodel.fit_predict(X) # Menetapkan variabel y_kmeans yang berisi nilai prediksi cluster dari funsgi fit_predict() menggunakan model kmeansmodel \n",
    "\n",
    "#Karena ini adalah unsupervised learning di mana tidak ada variabel target, maka digunakan fungsi fit_predidct()"
   ]
  },
  {
   "cell_type": "code",
   "execution_count": 60,
   "metadata": {
    "_uuid": "5f68302f4aba23e471848f1dd1701bbc84c72d34"
   },
   "outputs": [
    {
     "data": {
      "image/png": "[encoded data removed]",
      "text/plain": [
       "<Figure size 432x288 with 1 Axes>"
      ]
     },
     "metadata": {
      "needs_background": "light"
     },
     "output_type": "display_data"
    }
   ],
   "source": [
    "# Visualisasi semua data observasi sesuai clusternya dimana x adalah Annual Income dan y adalah Spending Score\n",
    "# Visualisasi menggunakan grafik scatter plot agar dapat menampilkan nilai dari dua variabel menggunakan fungsi plt.scatter()\n",
    "# Parameter plt.scatter(), yang dipakai\n",
    "# - x : nilai data untuk sumbu x, dalam kasus ini nilai variabel Income  \n",
    "# - y : nilai data untuk sumbu y, dalam kasus ini nilai variabel Life expectancy \n",
    "# - s : penentuan ukuran penanda poin data\n",
    "# - c : penentuan warna untuk poin data\n",
    "# - label : untuk memberikan label pada poin data, akan terlihat pada legenda\n",
    "plt.scatter(X[y_kmeans == 0, 0], X[y_kmeans == 0, 1], s = 100, c = 'red', label = 'Cluster 1') #Membuat plot data untuk observasi-observasi yang jatuh pada Cluster 1 yang ditandai dengan warna merah dengan size = 100\n",
    "plt.scatter(X[y_kmeans == 1, 0], X[y_kmeans == 1, 1], s = 100, c = 'blue', label = 'Cluster 2') #Membuat plot data untuk observasi-observasi yang jatuh pada Cluster 2 yang ditandai dengan warna biru dengan size = 100\n",
    "plt.scatter(X[y_kmeans == 2, 0], X[y_kmeans == 2, 1], s = 100, c = 'green', label = 'Cluster 3') #Membuat plot data untuk observasi-observasi yang jatuh pada Cluster 3 yang ditandai dengan warna hijau dengan size = 100\n",
    "plt.scatter(kmeans.cluster_centers_[:, 0], kmeans.cluster_centers_[:, 1], s = 300, c = 'yellow', label = 'Centroids') #membuat plot data untuk Centroid tiap cluster yang ditandai dengan warna kuning dengan size = 300\n",
    "plt.title('Clusters of countries') # memberi nama label 'Clusters of customers' di atas grafik sebagai judul\n",
    "plt.xlabel('Income') # memberi nama label 'Annual Income (k$)' pada sumbu x\n",
    "plt.ylabel('Life Expectancy') # memberi nama label 'Spending Score (1-100)' pada sumbu y \n",
    "plt.legend() # menampilkan legenda pada plot\n",
    "plt.show() # menampilkan plot sesuai dengan spesifikasi di atas"
   ]
  },
  {
   "cell_type": "markdown",
   "metadata": {
    "_uuid": "5888ca6ca9808216098ed9cb2310a2084408e4c5",
    "collapsed": true
   },
   "source": [
    "Penjelasan pengelompokan:\n",
    "- Cluster 1: Menunjukan negara-negara yang memiliki angka harapan hidup yang rendah dan pendapatan yang rendah\n",
    "- Cluster 2: Menunjukan negara-negara yang memiliki angka harapan hidup yang tinggi dan pendapatan yang menengah\n",
    "- Cluster 3: Menunjukan negara-negara yang memiliki angka harapan hidup yang tinggi dan pendapatan yang menengah"
   ]
  }
 ],
 "metadata": {
  "kernelspec": {
   "display_name": "Python 3",
   "language": "python",
   "name": "python3"
  },
  "language_info": {
   "codemirror_mode": {
    "name": "ipython",
    "version": 3
   },
   "file_extension": ".py",
   "mimetype": "text/x-python",
   "name": "python",
   "nbconvert_exporter": "python",
   "pygments_lexer": "ipython3",
   "version": "3.8.3"
  }
 },
 "nbformat": 4,
 "nbformat_minor": 1
}
